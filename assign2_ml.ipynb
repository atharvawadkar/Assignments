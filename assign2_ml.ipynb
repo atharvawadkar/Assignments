{
 "cells": [
  {
   "cell_type": "code",
   "execution_count": 23,
   "metadata": {},
   "outputs": [
    {
     "name": "stdout",
     "output_type": "stream",
     "text": [
      "[[728   3]\n",
      " [ 75 229]]\n",
      "0.9246376811594202\n"
     ]
    }
   ],
   "source": [
    "from dis import dis\n",
    "import numpy as np\n",
    "import pandas as pd\n",
    "import matplotlib.pyplot as plt\n",
    "import seaborn as sns\n",
    "from IPython.display import display\n",
    "from sklearn.preprocessing import StandardScaler\n",
    "from sklearn.model_selection import train_test_split\n",
    "from sklearn.neighbors import KNeighborsClassifier\n",
    "from sklearn.metrics import confusion_matrix, accuracy_score\n",
    "from sklearn.svm import SVC\n",
    "\n",
    "class Spam:\n",
    "    __name = \"emails.csv\"\n",
    "    __columns = []\n",
    "\n",
    "    def load_dataset(self):\n",
    "        self.dataset = pd.read_csv(self.__name)\n",
    "    \n",
    "    def show_dataset_head(self):\n",
    "        display(self.dataset.head())\n",
    "    \n",
    "    def show_dataset_info(self):\n",
    "        display(self.dataset.info())\n",
    "    \n",
    "    def eda(self):\n",
    "        # check for null values\n",
    "        nullSumArray = self.dataset.isnull().sum()\n",
    "        df = pd.DataFrame({\"feature\": nullSumArray.keys(), \"Count\":nullSumArray.values})\n",
    "        display(df.loc[df[\"Count\"] > 0])\n",
    "    \n",
    "    def preprocess(self):\n",
    "        self.__columns = self.dataset.columns \n",
    "\n",
    "        self.X = self.dataset[[feature for feature in self.__columns if ( (feature != \"Prediction\") & (feature!=\"Email No.\") )]]\n",
    "        self.y = self.dataset[\"Prediction\"]\n",
    "\n",
    "        self.X_train, self.X_test, self.y_train, self.y_test = train_test_split(self.X, self.y, test_size=0.2)\n",
    "\n",
    "        self.scaler = StandardScaler()\n",
    "        self.X_train_transformed = self.scaler.fit_transform(self.X_train)\n",
    "        self.X_test_transformed = self.scaler.transform(self.X_test)\n",
    "    \n",
    "    def trainKNN(self):\n",
    "        self.KNN = KNeighborsClassifier(n_neighbors=10)\n",
    "        self.KNN.fit(self.X_train_transformed, self.y_train)\n",
    "    \n",
    "    def predictKNN(self):\n",
    "        self.y_pred = self.KNN.predict(self.X_test_transformed)\n",
    "    \n",
    "    def evaluateKNN(self):\n",
    "        self.cm = confusion_matrix(self.y_test, self.y_pred)\n",
    "        self.acc = accuracy_score(self.y_test, self.y_pred)\n",
    "        print(\"--- KNN Evaluation ---\")\n",
    "        print(\"Confusion Matrix: \\n\", self.cm)\n",
    "        print(\"Accuracy: \", self.acc)\n",
    "    \n",
    "    def trainSVM(self):\n",
    "        self.SVM = SVC()\n",
    "        self.SVM.fit(self.X_train_transformed, self.y_train)\n",
    "    \n",
    "    def predictSVM(self):\n",
    "        self.y_pred_SVM = self.SVM.predict(self.X_test_transformed)\n",
    "    \n",
    "    def evaluateSVM(self):\n",
    "        self.cm_SVM = confusion_matrix(self.y_test, self.y_pred_SVM)\n",
    "        self.acc_SVM = accuracy_score(self.y_test, self.y_pred_SVM)\n",
    "        print(\"--- SVM Evaluation ---\")\n",
    "        print(\"Confusion Matrix: \", self.cm_SVM)\n",
    "        print(\"Accuracy: \", self.acc_SVM)\n",
    "        \n",
    "        \n",
    "\n",
    "spam = Spam()\n",
    "spam.load_dataset()\n",
    "spam.show_dataset_head()\n",
    "spam.show_dataset_info()\n",
    "spam.eda()\n",
    "spam.preprocess()\n",
    "\n",
    "# --- KNN Model ---\n",
    "spam.trainKNN()\n",
    "spam.predictKNN()\n",
    "spam.evaluateKNN()\n",
    "\n",
    "# --- SVM Model ---\n",
    "spam.trainSVM()\n",
    "spam.predictSVM()\n",
    "spam.evaluateSVM()"
   ]
  }
 ],
 "metadata": {
  "kernelspec": {
   "display_name": "Python 3.10.8 ('myenv': venv)",
   "language": "python",
   "name": "python3"
  },
  "language_info": {
   "codemirror_mode": {
    "name": "ipython",
    "version": 3
   },
   "file_extension": ".py",
   "mimetype": "text/x-python",
   "name": "python",
   "nbconvert_exporter": "python",
   "pygments_lexer": "ipython3",
   "version": "3.10.8"
  },
  "orig_nbformat": 4,
  "vscode": {
   "interpreter": {
    "hash": "109d2f08e4007426ffba6f107ab2993572817d49716bce400bccf83aea9104c0"
   }
  }
 },
 "nbformat": 4,
 "nbformat_minor": 2
}
